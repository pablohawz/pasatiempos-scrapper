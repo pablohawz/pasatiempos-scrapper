{
 "metadata": {
  "language_info": {
   "codemirror_mode": {
    "name": "ipython",
    "version": 3
   },
   "file_extension": ".py",
   "mimetype": "text/x-python",
   "name": "python",
   "nbconvert_exporter": "python",
   "pygments_lexer": "ipython3",
   "version": "3.8.5"
  },
  "orig_nbformat": 2,
  "kernelspec": {
   "name": "python385jvsc74a57bd089bc3222f690297b053389f461fd0005aa29a930d6cbb1d43b8bf25376f2e1c2",
   "display_name": "Python 3.8.5  ('venv': venv)"
  },
  "metadata": {
   "interpreter": {
    "hash": "89bc3222f690297b053389f461fd0005aa29a930d6cbb1d43b8bf25376f2e1c2"
   }
  }
 },
 "nbformat": 4,
 "nbformat_minor": 2,
 "cells": [
  {
   "cell_type": "code",
   "execution_count": 1,
   "metadata": {},
   "outputs": [],
   "source": [
    "import pandas as pd\n",
    "\n",
    "df = pd.read_csv('refranes_cleaned.csv')"
   ]
  },
  {
   "cell_type": "code",
   "execution_count": 2,
   "metadata": {},
   "outputs": [
    {
     "output_type": "display_data",
     "data": {
      "text/plain": "                                                Refran  \\\n0         Non hai refrán vello que non sexa verdadeiro   \n1               Pobreza e ledicia non durmen nun cocho   \n2                 Verbas sisudas non queren testemuñas   \n3             Como se alegra o corvo do que fai o lobo   \n4    No mes de san Xoán, pícanlle as pulgas no rabo...   \n..                                                 ...   \n122  Por San Matías, andan as noites á porfía cos días   \n123               Onde non vexas corpo non botes carga   \n124                               O mar dá, o mar leva   \n125          O mal entra a brazadas e sae a migalladas   \n126                          O galego non perde o rego   \n\n                                       refran_completo  \\\n0         Non hai refrán vello que non sexa verdadeiro   \n1               Pobreza e ledicia non durmen nun cocho   \n2                 Verbas sisudas non queren testemuñas   \n3             Como se alegra o corvo do que fai o lobo   \n4    No mes de san Xoán, pícanlle as pulgas no rabo...   \n..                                                 ...   \n122  Por San Matías, andan as noites á porfía cos días   \n123               Onde non vexas corpo non botes carga   \n124                               O mar dá, o mar leva   \n125          O mal entra a brazadas e sae a migalladas   \n126                          O galego non perde o rego   \n\n                        parte_1                             parte_2  \n0         Non hai refrán vello              que non sexa verdadeiro  \n1            Pobreza e ledicia                non durmen nun cocho   \n2           Verbas sisudas non                    queren testemuñas  \n3    Como se alegra o corvo do                       que fai o lobo  \n4            No mes de san Xoán   pícanlle as pulgas no rabo ao can  \n..                          ...                                 ...  \n122              Por San Matías   andan as noites á porfía cos días  \n123             Onde non vexas               corpo non botes carga   \n124                    O mar dá                          o mar leva  \n125              O mal entra a         brazadas e sae a migalladas   \n126               O galego non                        perde o rego   \n\n[127 rows x 4 columns]",
      "text/html": "<div>\n<style scoped>\n    .dataframe tbody tr th:only-of-type {\n        vertical-align: middle;\n    }\n\n    .dataframe tbody tr th {\n        vertical-align: top;\n    }\n\n    .dataframe thead th {\n        text-align: right;\n    }\n</style>\n<table border=\"1\" class=\"dataframe\">\n  <thead>\n    <tr style=\"text-align: right;\">\n      <th></th>\n      <th>Refran</th>\n      <th>refran_completo</th>\n      <th>parte_1</th>\n      <th>parte_2</th>\n    </tr>\n  </thead>\n  <tbody>\n    <tr>\n      <th>0</th>\n      <td>Non hai refrán vello que non sexa verdadeiro</td>\n      <td>Non hai refrán vello que non sexa verdadeiro</td>\n      <td>Non hai refrán vello</td>\n      <td>que non sexa verdadeiro</td>\n    </tr>\n    <tr>\n      <th>1</th>\n      <td>Pobreza e ledicia non durmen nun cocho</td>\n      <td>Pobreza e ledicia non durmen nun cocho</td>\n      <td>Pobreza e ledicia</td>\n      <td>non durmen nun cocho</td>\n    </tr>\n    <tr>\n      <th>2</th>\n      <td>Verbas sisudas non queren testemuñas</td>\n      <td>Verbas sisudas non queren testemuñas</td>\n      <td>Verbas sisudas non</td>\n      <td>queren testemuñas</td>\n    </tr>\n    <tr>\n      <th>3</th>\n      <td>Como se alegra o corvo do que fai o lobo</td>\n      <td>Como se alegra o corvo do que fai o lobo</td>\n      <td>Como se alegra o corvo do</td>\n      <td>que fai o lobo</td>\n    </tr>\n    <tr>\n      <th>4</th>\n      <td>No mes de san Xoán, pícanlle as pulgas no rabo...</td>\n      <td>No mes de san Xoán, pícanlle as pulgas no rabo...</td>\n      <td>No mes de san Xoán</td>\n      <td>pícanlle as pulgas no rabo ao can</td>\n    </tr>\n    <tr>\n      <th>...</th>\n      <td>...</td>\n      <td>...</td>\n      <td>...</td>\n      <td>...</td>\n    </tr>\n    <tr>\n      <th>122</th>\n      <td>Por San Matías, andan as noites á porfía cos días</td>\n      <td>Por San Matías, andan as noites á porfía cos días</td>\n      <td>Por San Matías</td>\n      <td>andan as noites á porfía cos días</td>\n    </tr>\n    <tr>\n      <th>123</th>\n      <td>Onde non vexas corpo non botes carga</td>\n      <td>Onde non vexas corpo non botes carga</td>\n      <td>Onde non vexas</td>\n      <td>corpo non botes carga</td>\n    </tr>\n    <tr>\n      <th>124</th>\n      <td>O mar dá, o mar leva</td>\n      <td>O mar dá, o mar leva</td>\n      <td>O mar dá</td>\n      <td>o mar leva</td>\n    </tr>\n    <tr>\n      <th>125</th>\n      <td>O mal entra a brazadas e sae a migalladas</td>\n      <td>O mal entra a brazadas e sae a migalladas</td>\n      <td>O mal entra a</td>\n      <td>brazadas e sae a migalladas</td>\n    </tr>\n    <tr>\n      <th>126</th>\n      <td>O galego non perde o rego</td>\n      <td>O galego non perde o rego</td>\n      <td>O galego non</td>\n      <td>perde o rego</td>\n    </tr>\n  </tbody>\n</table>\n<p>127 rows × 4 columns</p>\n</div>"
     },
     "metadata": {}
    }
   ],
   "source": [
    "from IPython.display import display\n",
    "display(df)"
   ]
  },
  {
   "cell_type": "code",
   "execution_count": 16,
   "metadata": {},
   "outputs": [],
   "source": [
    "inicios = df['parte_1'].to_list()\n",
    "finales = df['parte_2'].to_list()\n",
    "\n",
    "# ELIMINAR LA Nº 19\n",
    "del inicios[19]\n",
    "del finales[19]"
   ]
  },
  {
   "source": [
    "# Firebase:\n",
    "```javascript\n",
    "pasatiempo {\n",
    "    question  : {title: INICIO}\n",
    "    opciones  : string[]\n",
    "    generador : string\n",
    "    estado    : number (enum)\n",
    "    categoria : number (enum)\n",
    "}\n",
    "```"
   ],
   "cell_type": "markdown",
   "metadata": {}
  },
  {
   "cell_type": "code",
   "execution_count": 46,
   "metadata": {
    "tags": []
   },
   "outputs": [
    {
     "output_type": "stream",
     "name": "stdout",
     "text": [
      "{'question': {'title': 'Non hai refrán vello '}, 'opciones': ['que non sexa verdadeiro', 'que comer de novo sardiña', ' Pedro; predícame Frade. Por unha orella me entra e pola outra me sae', 'queren testemuñas', 'quer poñer escola']}\n{'question': {'title': 'Pobreza e ledicia '}, 'opciones': ['non durmen nun cocho ', 'que era unha axuda', 'saca o demo ganancia ', ' pícanlle as pulgas no rabo ao can', 'caben a un xeito ']}\n{'question': {'title': 'Verbas sisudas non '}, 'opciones': ['queren testemuñas', 'que non dá esterco non durme na corte', ' semana ao cabo', 'ques nin boi de sábado nin home de luns', ' anda o pan e o viño por todos os cantos']}\n{'question': {'title': 'Como se alegra o corvo do '}, 'opciones': ['que fai o lobo', 'que comer de novo sardiña', ' merca de quen herdou', ' lama fan', 'atallo sen traballo ']}\n{'question': {'title': 'No mes de san Xoán'}, 'opciones': [' pícanlle as pulgas no rabo ao can', 'mercar é gloria ', ' pícanlle as pulgas no rabo ao can', ' andan as noites á porfía cos días', 'e o Sil dálle a auga ']}\n{'question': {'title': 'De alcalde a verdugo'}, 'opciones': [' mirade como subo', ' o martes lavo', 'caben a un xeito ', ' ou seca as fontes ou leva as pontes', ' o mar leva']}\n{'question': {'title': 'A troita e a mentira'}, 'opciones': [' canto maior', ' boa cor e tres figas ao doutor', ' mariñeiros á merda', ' mata os teus porcos e vai facendo bo caldo cos untos', 'quen rei non ve']}\n{'question': {'title': 'Quen con lobos anda'}, 'opciones': [' a ouvear aprende', ' o mar leva', 'nunca ben toca ', ' canto maior', 'fixo mal ']}\n{'question': {'title': 'Que lista era a vella dos anos mil! Gardaba '}, 'opciones': ['o pan para maio e a leña para abril ', ' xa rexeitado', 'que non amoleza coa xiada', 'non garda puntada ', ' mata os teus porcos e vai facendo bo caldo cos untos']}\n{'question': {'title': 'Se o viño che prexudica o negocio'}, 'opciones': [' deixa o negocio', 'que non foi mandado', 'que comer de novo sardiña', 'perde o tempo e o traballo ', ' cos dentes acode']}\n{'question': {'title': 'Amor de neno'}, 'opciones': [' auga nun paxe', 'que non amoleza coa xiada', 'que dar centeo', ' e se o cuco faltara a fin do mundo voltara', 'nunca ben toca ']}\n{'question': {'title': 'Abriles e señores'}, 'opciones': [' os máis traidores', 'non se marea ', ' auga nun paxe', 'que non amoleza coa xiada', 'non fai sega ']}\n"
     ]
    }
   ],
   "source": [
    "def getOtherOptions(final):\n",
    "    a = [final]\n",
    "    return a + random.sample(finales, 4)\n",
    "\n",
    "puzzles = []\n",
    "for index in range(len(inicios)): \n",
    "    inicio = inicios[index]\n",
    "    final = finales[index]\n",
    "    d = {'question': {'title': inicio}}\n",
    "    d['opciones'] = getOtherOptions(final)\n",
    "    puzzles.append(d)\n",
    "\n"
   ]
  },
  {
   "cell_type": "code",
   "execution_count": 32,
   "metadata": {},
   "outputs": [
    {
     "output_type": "stream",
     "name": "stdout",
     "text": [
      "[' outounán', ' desde a casa rega', 'agosto ca sol de setembro ']\n"
     ]
    }
   ],
   "source": [
    "import random\n",
    "print(random.sample(finales, 3))"
   ]
  },
  {
   "cell_type": "code",
   "execution_count": null,
   "metadata": {},
   "outputs": [],
   "source": []
  }
 ]
}