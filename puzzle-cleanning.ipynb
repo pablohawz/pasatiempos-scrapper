{
 "cells": [
  {
   "cell_type": "code",
   "execution_count": 1,
   "id": "87105b05",
   "metadata": {},
   "outputs": [],
   "source": [
    "import pandas as pd\n",
    "\n",
    "def split1(x):\n",
    "\n",
    "    if ',' in x:\n",
    "        return x.split(',')[0]\n",
    "\n",
    "    if 'que' in x:\n",
    "        return x.split('que')[0]\n",
    "\n",
    "    parts = x.split(' ')\n",
    "    mid = int(len(parts)/2)\n",
    "    half_parts = x.split(' ')[:mid]\n",
    "    s = ''\n",
    "    for part in half_parts:\n",
    "        s = s+part+' '\n",
    "    return s\n",
    "\n",
    "def split2(x):\n",
    "\n",
    "    if ',' in x:\n",
    "        return x.split(',')[1]\n",
    "\n",
    "    if 'que' in x:\n",
    "        return 'que' + x.split('que')[1]\n",
    "\n",
    "    parts = x.split(' ')\n",
    "    mid = int(len(parts)/2)\n",
    "    half_parts = x.split(' ')[mid:]\n",
    "    s = ''\n",
    "    for part in half_parts:\n",
    "        s = s+part+' '\n",
    "    return s\n",
    "\n",
    "\n"
   ]
  },
  {
   "cell_type": "code",
   "execution_count": 2,
   "metadata": {},
   "outputs": [],
   "source": [
    "df = pd.read_csv('refranes.csv')\n",
    "df['refran_completo'] = df['Refran'].apply(lambda x: x.replace('\"', ''))\n",
    "df['refran_completo'] = df['Refran'].apply(lambda x: x.replace('\"', ''))\n",
    "\n",
    "df['parte_1'] = df['refran_completo'].apply(split1)\n",
    "df['parte_2'] = df['refran_completo'].apply(split2)"
   ]
  },
  {
   "cell_type": "code",
   "execution_count": 3,
   "metadata": {},
   "outputs": [],
   "source": [
    "df.to_csv('refranes_cleaned.csv', index=False)"
   ]
  },
  {
   "cell_type": "code",
   "execution_count": 4,
   "metadata": {},
   "outputs": [
    {
     "output_type": "display_data",
     "data": {
      "text/plain": "                                                Refran  \\\n0         Non hai refrán vello que non sexa verdadeiro   \n1               Pobreza e ledicia non durmen nun cocho   \n2                 Verbas sisudas non queren testemuñas   \n3             Como se alegra o corvo do que fai o lobo   \n4    No mes de san Xoán, pícanlle as pulgas no rabo...   \n..                                                 ...   \n122  Por San Matías, andan as noites á porfía cos días   \n123               Onde non vexas corpo non botes carga   \n124                               O mar dá, o mar leva   \n125          O mal entra a brazadas e sae a migalladas   \n126                          O galego non perde o rego   \n\n                                       refran_completo  \\\n0         Non hai refrán vello que non sexa verdadeiro   \n1               Pobreza e ledicia non durmen nun cocho   \n2                 Verbas sisudas non queren testemuñas   \n3             Como se alegra o corvo do que fai o lobo   \n4    No mes de san Xoán, pícanlle as pulgas no rabo...   \n..                                                 ...   \n122  Por San Matías, andan as noites á porfía cos días   \n123               Onde non vexas corpo non botes carga   \n124                               O mar dá, o mar leva   \n125          O mal entra a brazadas e sae a migalladas   \n126                          O galego non perde o rego   \n\n                        parte_1                             parte_2  \n0         Non hai refrán vello              que non sexa verdadeiro  \n1            Pobreza e ledicia                non durmen nun cocho   \n2           Verbas sisudas non                    queren testemuñas  \n3    Como se alegra o corvo do                       que fai o lobo  \n4            No mes de san Xoán   pícanlle as pulgas no rabo ao can  \n..                          ...                                 ...  \n122              Por San Matías   andan as noites á porfía cos días  \n123             Onde non vexas               corpo non botes carga   \n124                    O mar dá                          o mar leva  \n125              O mal entra a         brazadas e sae a migalladas   \n126               O galego non                        perde o rego   \n\n[127 rows x 4 columns]",
      "text/html": "<div>\n<style scoped>\n    .dataframe tbody tr th:only-of-type {\n        vertical-align: middle;\n    }\n\n    .dataframe tbody tr th {\n        vertical-align: top;\n    }\n\n    .dataframe thead th {\n        text-align: right;\n    }\n</style>\n<table border=\"1\" class=\"dataframe\">\n  <thead>\n    <tr style=\"text-align: right;\">\n      <th></th>\n      <th>Refran</th>\n      <th>refran_completo</th>\n      <th>parte_1</th>\n      <th>parte_2</th>\n    </tr>\n  </thead>\n  <tbody>\n    <tr>\n      <th>0</th>\n      <td>Non hai refrán vello que non sexa verdadeiro</td>\n      <td>Non hai refrán vello que non sexa verdadeiro</td>\n      <td>Non hai refrán vello</td>\n      <td>que non sexa verdadeiro</td>\n    </tr>\n    <tr>\n      <th>1</th>\n      <td>Pobreza e ledicia non durmen nun cocho</td>\n      <td>Pobreza e ledicia non durmen nun cocho</td>\n      <td>Pobreza e ledicia</td>\n      <td>non durmen nun cocho</td>\n    </tr>\n    <tr>\n      <th>2</th>\n      <td>Verbas sisudas non queren testemuñas</td>\n      <td>Verbas sisudas non queren testemuñas</td>\n      <td>Verbas sisudas non</td>\n      <td>queren testemuñas</td>\n    </tr>\n    <tr>\n      <th>3</th>\n      <td>Como se alegra o corvo do que fai o lobo</td>\n      <td>Como se alegra o corvo do que fai o lobo</td>\n      <td>Como se alegra o corvo do</td>\n      <td>que fai o lobo</td>\n    </tr>\n    <tr>\n      <th>4</th>\n      <td>No mes de san Xoán, pícanlle as pulgas no rabo...</td>\n      <td>No mes de san Xoán, pícanlle as pulgas no rabo...</td>\n      <td>No mes de san Xoán</td>\n      <td>pícanlle as pulgas no rabo ao can</td>\n    </tr>\n    <tr>\n      <th>...</th>\n      <td>...</td>\n      <td>...</td>\n      <td>...</td>\n      <td>...</td>\n    </tr>\n    <tr>\n      <th>122</th>\n      <td>Por San Matías, andan as noites á porfía cos días</td>\n      <td>Por San Matías, andan as noites á porfía cos días</td>\n      <td>Por San Matías</td>\n      <td>andan as noites á porfía cos días</td>\n    </tr>\n    <tr>\n      <th>123</th>\n      <td>Onde non vexas corpo non botes carga</td>\n      <td>Onde non vexas corpo non botes carga</td>\n      <td>Onde non vexas</td>\n      <td>corpo non botes carga</td>\n    </tr>\n    <tr>\n      <th>124</th>\n      <td>O mar dá, o mar leva</td>\n      <td>O mar dá, o mar leva</td>\n      <td>O mar dá</td>\n      <td>o mar leva</td>\n    </tr>\n    <tr>\n      <th>125</th>\n      <td>O mal entra a brazadas e sae a migalladas</td>\n      <td>O mal entra a brazadas e sae a migalladas</td>\n      <td>O mal entra a</td>\n      <td>brazadas e sae a migalladas</td>\n    </tr>\n    <tr>\n      <th>126</th>\n      <td>O galego non perde o rego</td>\n      <td>O galego non perde o rego</td>\n      <td>O galego non</td>\n      <td>perde o rego</td>\n    </tr>\n  </tbody>\n</table>\n<p>127 rows × 4 columns</p>\n</div>"
     },
     "metadata": {}
    }
   ],
   "source": [
    "from IPython.display import display\n",
    "display(df)"
   ]
  },
  {
   "cell_type": "code",
   "execution_count": null,
   "metadata": {},
   "outputs": [],
   "source": []
  }
 ],
 "metadata": {
  "kernelspec": {
   "name": "python385jvsc74a57bd089bc3222f690297b053389f461fd0005aa29a930d6cbb1d43b8bf25376f2e1c2",
   "display_name": "Python 3.8.5  ('venv': venv)"
  },
  "language_info": {
   "codemirror_mode": {
    "name": "ipython",
    "version": 3
   },
   "file_extension": ".py",
   "mimetype": "text/x-python",
   "name": "python",
   "nbconvert_exporter": "python",
   "pygments_lexer": "ipython3",
   "version": "3.8.5"
  },
  "metadata": {
   "interpreter": {
    "hash": "89bc3222f690297b053389f461fd0005aa29a930d6cbb1d43b8bf25376f2e1c2"
   }
  }
 },
 "nbformat": 4,
 "nbformat_minor": 5
}